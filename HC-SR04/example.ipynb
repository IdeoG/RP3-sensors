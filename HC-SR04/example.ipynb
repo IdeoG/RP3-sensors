{
 "cells": [
  {
   "cell_type": "code",
   "execution_count": 26,
   "metadata": {},
   "outputs": [],
   "source": [
    "import RPi.GPIO as GPIO\n",
    "import time"
   ]
  },
  {
   "cell_type": "code",
   "execution_count": 27,
   "metadata": {},
   "outputs": [],
   "source": [
    "TRIG = 23\n",
    "ECHO = 24"
   ]
  },
  {
   "cell_type": "code",
   "execution_count": 31,
   "metadata": {},
   "outputs": [],
   "source": [
    "class HCSR04:\n",
    "    def __init__(self, TRIG, ECHO):\n",
    "        self.TRIG = TRIG\n",
    "        self.ECHO = ECHO\n",
    "        \n",
    "    def setup_gpio(self):\n",
    "        GPIO.setmode(GPIO.BCM)\n",
    "        GPIO.setup(self.TRIG, GPIO.OUT)\n",
    "        GPIO.setup(self.ECHO, GPIO.IN)\n",
    "        \n",
    "    def measure_distance(self):\n",
    "        GPIO.output(self.TRIG, True)\n",
    "        time.sleep(0.00001)\n",
    "        GPIO.output(self.TRIG, False)\n",
    "\n",
    "        while GPIO.input(self.ECHO) == 0:\n",
    "            pulse_start = time.time()\n",
    "\n",
    "        while GPIO.input(ECHO) == 1:\n",
    "            pulse_end = time.time()\n",
    "\n",
    "        pulse_duration = pulse_end - pulse_start\n",
    "\n",
    "        distance = pulse_duration * 17150\n",
    "        distance = round(distance,1)\n",
    "\n",
    "        if distance > 2 and distance < 600:\n",
    "            print(\"Distance: %s cm\" %(distance - 0.5))\n",
    "        else:\n",
    "            print(\"Out of range\")\n",
    "            \n",
    "    def gpio_clean():\n",
    "        GPIO.cleanup()"
   ]
  },
  {
   "cell_type": "code",
   "execution_count": 32,
   "metadata": {},
   "outputs": [],
   "source": [
    "us_module = HCSR04(TRIG, ECHO)"
   ]
  },
  {
   "cell_type": "code",
   "execution_count": 30,
   "metadata": {},
   "outputs": [
    {
     "name": "stdout",
     "output_type": "stream",
     "text": [
      "Distance measurement in progress..\n",
      "Distance: 175.6 cm\n",
      "Distance: 176.0 cm\n",
      "Distance: 174.4 cm\n",
      "Distance: 178.6 cm\n",
      "Distance: 174.3 cm\n",
      "Distance: 173.1 cm\n",
      "Distance: 174.8 cm\n",
      "Distance: 176.9 cm\n",
      "Distance: 178.8 cm\n",
      "Distance: 177.0 cm\n",
      "Distance: 175.2 cm\n",
      "Distance: 174.4 cm\n",
      "Distance: 172.6 cm\n",
      "Distance: 155.9 cm\n",
      "Distance: 178.1 cm\n",
      "Distance: 176.9 cm\n",
      "Distance: 176.9 cm\n",
      "Distance: 184.2 cm\n",
      "Distance: 175.5 cm\n",
      "Distance: 168.5 cm\n",
      "Distance: 178.6 cm\n",
      "Distance: 185.3 cm\n",
      "Distance: 177.1 cm\n",
      "Distance: 177.3 cm\n",
      "Distance: 175.5 cm\n",
      "Distance: 87.1 cm\n",
      "Distance: 174.7 cm\n",
      "Distance: 172.6 cm\n",
      "Distance: 123.4 cm\n",
      "Distance: 174.3 cm\n",
      "Distance: 172.2 cm\n",
      "Distance: 104.1 cm\n",
      "Distance: 208.4 cm\n",
      "Distance: 188.1 cm\n",
      "Distance: 86.8 cm\n",
      "Distance: 177.8 cm\n",
      "Distance: 179.3 cm\n",
      "Distance: 46.3 cm\n",
      "Distance: 48.7 cm\n",
      "Out of range\n",
      "Distance: 51.8 cm\n",
      "Distance: 52.3 cm\n",
      "Distance: 52.5 cm\n",
      "Out of range\n",
      "Distance: 301.5 cm\n",
      "Out of range\n",
      "Distance: 212.1 cm\n",
      "Distance: 212.1 cm\n",
      "Distance: 384.0 cm\n",
      "Distance: 272.8 cm\n",
      "Distance: 275.7 cm\n",
      "Out of range\n",
      "Distance: 169.2 cm\n",
      "Distance: 200.4 cm\n",
      "Distance: 166.9 cm\n",
      "Distance: 185.7 cm\n",
      "Distance: 176.9 cm\n",
      "Distance: 177.4 cm\n",
      "Distance: 126.4 cm\n",
      "Distance: 125.2 cm\n",
      "Distance: 123.9 cm\n",
      "Distance: 20.9 cm\n",
      "Out of range\n",
      "Distance: 62.5 cm\n",
      "Distance: 7.0 cm\n",
      "Out of range\n",
      "Distance: 146.4 cm\n",
      "Out of range\n",
      "Distance: 938.2 cm\n",
      "Distance: 5.2 cm\n",
      "Distance: 6.3 cm\n",
      "Distance: 5.0 cm\n",
      "Distance: 9.5 cm\n",
      "Distance: 145.8 cm\n",
      "Distance: 5.7 cm\n",
      "Distance: 3.7 cm\n",
      "Distance: 3.5 cm\n",
      "Distance: 3.5999999999999996 cm\n",
      "Distance: 6.3 cm\n",
      "Distance: 3.8 cm\n",
      "Distance: 187.0 cm\n",
      "Distance: 766.5 cm\n"
     ]
    },
    {
     "ename": "KeyboardInterrupt",
     "evalue": "",
     "output_type": "error",
     "traceback": [
      "\u001b[0;31m---------------------------------------------------------------------------\u001b[0m",
      "\u001b[0;31mKeyboardInterrupt\u001b[0m                         Traceback (most recent call last)",
      "\u001b[0;32m<ipython-input-30-376c40f55e90>\u001b[0m in \u001b[0;36m<module>\u001b[0;34m()\u001b[0m\n\u001b[1;32m      2\u001b[0m \u001b[0mprint\u001b[0m\u001b[0;34m(\u001b[0m\u001b[0;34m\"Distance measurement in progress..\"\u001b[0m\u001b[0;34m)\u001b[0m\u001b[0;34m\u001b[0m\u001b[0m\n\u001b[1;32m      3\u001b[0m \u001b[0;32mwhile\u001b[0m \u001b[0;32mTrue\u001b[0m\u001b[0;34m:\u001b[0m\u001b[0;34m\u001b[0m\u001b[0m\n\u001b[0;32m----> 4\u001b[0;31m     \u001b[0mtime\u001b[0m\u001b[0;34m.\u001b[0m\u001b[0msleep\u001b[0m\u001b[0;34m(\u001b[0m\u001b[0;36m2\u001b[0m\u001b[0;34m)\u001b[0m\u001b[0;34m\u001b[0m\u001b[0m\n\u001b[0m\u001b[1;32m      5\u001b[0m     \u001b[0mus_module\u001b[0m\u001b[0;34m.\u001b[0m\u001b[0mmeasure_distance\u001b[0m\u001b[0;34m(\u001b[0m\u001b[0;34m)\u001b[0m\u001b[0;34m\u001b[0m\u001b[0m\n",
      "\u001b[0;31mKeyboardInterrupt\u001b[0m: "
     ]
    }
   ],
   "source": [
    "us_module.setup_gpio()\n",
    "print(\"Distance measurement in progress..\")\n",
    "while True:\n",
    "    time.sleep(2)\n",
    "    us_module.measure_distance()"
   ]
  },
  {
   "cell_type": "code",
   "execution_count": null,
   "metadata": {},
   "outputs": [],
   "source": []
  }
 ],
 "metadata": {
  "kernelspec": {
   "display_name": "Python 3",
   "language": "python",
   "name": "python3"
  },
  "language_info": {
   "codemirror_mode": {
    "name": "ipython",
    "version": 3
   },
   "file_extension": ".py",
   "mimetype": "text/x-python",
   "name": "python",
   "nbconvert_exporter": "python",
   "pygments_lexer": "ipython3",
   "version": "3.6.3"
  }
 },
 "nbformat": 4,
 "nbformat_minor": 2
}
