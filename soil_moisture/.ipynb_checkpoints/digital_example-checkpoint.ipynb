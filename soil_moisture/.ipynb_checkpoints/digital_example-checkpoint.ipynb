{
 "cells": [
  {
   "cell_type": "code",
   "execution_count": 9,
   "metadata": {},
   "outputs": [],
   "source": [
    "import RPi.GPIO as GPIO\n",
    "from threading import Timer\n",
    "from time import gmtime, strftime\n",
    "from datetime import datetime"
   ]
  },
  {
   "cell_type": "code",
   "execution_count": 10,
   "metadata": {},
   "outputs": [],
   "source": [
    "interval = 2"
   ]
  },
  {
   "cell_type": "code",
   "execution_count": 11,
   "metadata": {},
   "outputs": [],
   "source": [
    "GPIO.cleanup(17)\n",
    "GPIO.setmode(GPIO.BCM)\n",
    "GPIO.setup(17, GPIO.IN)"
   ]
  },
  {
   "cell_type": "code",
   "execution_count": 4,
   "metadata": {},
   "outputs": [],
   "source": [
    "def soil_moisture_handler(channel=None):\n",
    "    '''0 - полива не требуется, 1 - нужен полив'''\n",
    "    \n",
    "    if not GPIO.input(17):\n",
    "        print(strftime(\"%Y-%m-%d %H:%M:%S\", gmtime()) + \": Полива не требуется.\") \n",
    "    else:\n",
    "        print(strftime(\"%Y-%m-%d %H:%M:%S\", gmtime()) + \": Цветок нужно полить.\")"
   ]
  },
  {
   "cell_type": "code",
   "execution_count": 5,
   "metadata": {},
   "outputs": [
    {
     "data": {
      "text/plain": [
       "'Не самое удачное решение. Прилетает много callback одновременно. Проще опрашивать по таймеру'"
      ]
     },
     "execution_count": 5,
     "metadata": {},
     "output_type": "execute_result"
    }
   ],
   "source": [
    "'''Не самое удачное решение. Прилетает много callback одновременно. Проще опрашивать по таймеру'''\n",
    "# GPIO.add_event_detect(17, GPIO.RISING, callback=soil_moisture_handler, bouncetime=300)"
   ]
  },
  {
   "cell_type": "code",
   "execution_count": 6,
   "metadata": {},
   "outputs": [],
   "source": [
    "class PeriodicTask(object):\n",
    "    def __init__(self, interval, callback, daemon=True, **kwargs):\n",
    "        self.interval = interval\n",
    "        self.callback = callback\n",
    "        self.daemon   = daemon\n",
    "        self.kwargs   = kwargs\n",
    "        self.lock     = False\n",
    "\n",
    "    def run(self):\n",
    "        if not self.lock:\n",
    "            self.callback(**self.kwargs)\n",
    "            t = Timer(self.interval, self.run)\n",
    "            t.daemon = self.daemon\n",
    "            t.start()\n",
    "    \n",
    "    def cancel(self):\n",
    "        self.lock = True"
   ]
  },
  {
   "cell_type": "code",
   "execution_count": 7,
   "metadata": {},
   "outputs": [
    {
     "name": "stdout",
     "output_type": "stream",
     "text": [
      "2017-12-08 11:47:24: Полива не требуется.\n",
      "2017-12-08 11:47:27: Полива не требуется.\n",
      "2017-12-08 11:47:29: Полива не требуется.\n",
      "2017-12-08 11:47:31: Полива не требуется.\n",
      "2017-12-08 11:47:33: Полива не требуется.\n",
      "2017-12-08 11:47:35: Полива не требуется.\n"
     ]
    }
   ],
   "source": [
    "if __name__ == \"__main__\":\n",
    "    task = PeriodicTask(interval=interval, callback=soil_moisture_handler)\n",
    "    task.run()"
   ]
  },
  {
   "cell_type": "code",
   "execution_count": 8,
   "metadata": {},
   "outputs": [],
   "source": [
    "task.cancel()"
   ]
  },
  {
   "cell_type": "code",
   "execution_count": null,
   "metadata": {},
   "outputs": [],
   "source": []
  }
 ],
 "metadata": {
  "kernelspec": {
   "display_name": "Python 3",
   "language": "python",
   "name": "python3"
  },
  "language_info": {
   "codemirror_mode": {
    "name": "ipython",
    "version": 3
   },
   "file_extension": ".py",
   "mimetype": "text/x-python",
   "name": "python",
   "nbconvert_exporter": "python",
   "pygments_lexer": "ipython3",
   "version": "3.6.3"
  }
 },
 "nbformat": 4,
 "nbformat_minor": 2
}
