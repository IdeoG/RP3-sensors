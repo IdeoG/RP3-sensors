{
 "cells": [
  {
   "cell_type": "code",
   "execution_count": 1,
   "metadata": {},
   "outputs": [
    {
     "ename": "ModuleNotFoundError",
     "evalue": "No module named 'pirc522'",
     "output_type": "error",
     "traceback": [
      "\u001b[0;31m---------------------------------------------------------------------------\u001b[0m",
      "\u001b[0;31mModuleNotFoundError\u001b[0m                       Traceback (most recent call last)",
      "\u001b[0;32m<ipython-input-1-f97deeee0014>\u001b[0m in \u001b[0;36m<module>\u001b[0;34m()\u001b[0m\n\u001b[1;32m      4\u001b[0m \u001b[0;34m\u001b[0m\u001b[0m\n\u001b[1;32m      5\u001b[0m \u001b[0;31m#from pirc522 import RFID\u001b[0m\u001b[0;34m\u001b[0m\u001b[0;34m\u001b[0m\u001b[0m\n\u001b[0;32m----> 6\u001b[0;31m \u001b[0;32mimport\u001b[0m \u001b[0mpirc522\u001b[0m\u001b[0;34m\u001b[0m\u001b[0m\n\u001b[0m",
      "\u001b[0;31mModuleNotFoundError\u001b[0m: No module named 'pirc522'"
     ]
    }
   ],
   "source": [
    "import signal\n",
    "import time\n",
    "import sys\n",
    "\n",
    "#from pirc522 import RFID\n",
    "import pirc522"
   ]
  },
  {
   "cell_type": "code",
   "execution_count": 3,
   "metadata": {},
   "outputs": [
    {
     "name": "stdout",
     "output_type": "stream",
     "text": [
      "['/home/pi/.jupyter', '/usr/local/etc/jupyter', '/etc/jupyter']\n"
     ]
    }
   ],
   "source": [
    "from jupyter_core.paths import jupyter_config_path\n",
    "print(jupyter_config_path())"
   ]
  },
  {
   "cell_type": "code",
   "execution_count": 8,
   "metadata": {},
   "outputs": [
    {
     "name": "stdout",
     "output_type": "stream",
     "text": [
      "Desktop\n",
      "Documents\n",
      "Downloads\n",
      "Music\n",
      "Pictures\n",
      "Public\n",
      "Templates\n",
      "Videos\n",
      "github_sources\n",
      "python_games\n"
     ]
    }
   ],
   "source": [
    "%%bash\n",
    "ls /home/pi"
   ]
  },
  {
   "cell_type": "code",
   "execution_count": null,
   "metadata": {},
   "outputs": [],
   "source": [
    "run = True\n",
    "rdr = RFID()\n",
    "util = rdr.util()\n",
    "util.debug = True\n",
    "\n",
    "def end_read(signal,frame):\n",
    "    global run\n",
    "    print(\"\\nCtrl+C captured, ending read.\")\n",
    "    run = False\n",
    "    rdr.cleanup()\n",
    "    sys.exit()\n",
    "\n",
    "signal.signal(signal.SIGINT, end_read)\n",
    "\n",
    "print(\"Starting\")\n",
    "while run:\n",
    "    rdr.wait_for_tag()\n",
    "\n",
    "    (error, data) = rdr.request()\n",
    "    if not error:\n",
    "        print(\"\\nDetected: \" + format(data, \"02x\"))\n",
    "\n",
    "    (error, uid) = rdr.anticoll()\n",
    "    if not error:\n",
    "        print(\"Card read UID: \"+str(uid[0])+\",\"+str(uid[1])+\",\"+str(uid[2])+\",\"+str(uid[3]))\n",
    "\n",
    "        print(\"Setting tag\")\n",
    "        util.set_tag(uid)\n",
    "        print(\"\\nAuthorizing\")\n",
    "        #util.auth(rdr.auth_a, [0x12, 0x34, 0x56, 0x78, 0x96, 0x92])\n",
    "        util.auth(rdr.auth_b, [0x74, 0x00, 0x52, 0x35, 0x00, 0xFF])\n",
    "        print(\"\\nReading\")\n",
    "        util.read_out(4)\n",
    "        print(\"\\nDeauthorizing\")\n",
    "        util.deauth()\n",
    "        \n",
    "        print(\"\\n\\n\")\n",
    "\n",
    "        time.sleep(1)"
   ]
  }
 ],
 "metadata": {
  "kernelspec": {
   "display_name": "Python 2",
   "language": "python",
   "name": "python2"
  },
  "language_info": {
   "codemirror_mode": {
    "name": "ipython",
    "version": 3
   },
   "file_extension": ".py",
   "mimetype": "text/x-python",
   "name": "python",
   "nbconvert_exporter": "python",
   "pygments_lexer": "ipython3",
   "version": "3.6.3"
  }
 },
 "nbformat": 4,
 "nbformat_minor": 2
}
