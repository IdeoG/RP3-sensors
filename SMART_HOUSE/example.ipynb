{
 "cells": [
  {
   "cell_type": "code",
   "execution_count": 1,
   "metadata": {},
   "outputs": [],
   "source": [
    "import RPi.GPIO as GPIO\n",
    "import time"
   ]
  },
  {
   "cell_type": "code",
   "execution_count": 2,
   "metadata": {},
   "outputs": [],
   "source": [
    "LAMP = 27\n",
    "LED = 17"
   ]
  },
  {
   "cell_type": "code",
   "execution_count": 3,
   "metadata": {},
   "outputs": [
    {
     "name": "stderr",
     "output_type": "stream",
     "text": [
      "/usr/local/lib/python3.6/site-packages/ipykernel_launcher.py:3: RuntimeWarning: This channel is already in use, continuing anyway.  Use GPIO.setwarnings(False) to disable warnings.\n",
      "  This is separate from the ipykernel package so we can avoid doing imports until\n"
     ]
    }
   ],
   "source": [
    "GPIO.setmode(GPIO.BCM)\n",
    "GPIO.setup(LED, GPIO.IN)\n",
    "GPIO.setup(LAMP, GPIO.OUT)\n",
    "GPIO.output(LAMP, True)"
   ]
  },
  {
   "cell_type": "code",
   "execution_count": 4,
   "metadata": {},
   "outputs": [],
   "source": [
    "def my_callback(time_in, time_out):\n",
    "    if time_out > time_in + 2:\n",
    "        GPIO.output(LAMP, not GPIO.input(LAMP))\n",
    "        print(\"Lamp current state %s\" % GPIO.input(LAMP))\n",
    "        return True\n",
    "    return False"
   ]
  },
  {
   "cell_type": "code",
   "execution_count": null,
   "metadata": {},
   "outputs": [
    {
     "name": "stdout",
     "output_type": "stream",
     "text": [
      "Lamp current state 0\n",
      "Lamp current state 1\n",
      "Lamp current state 0\n",
      "Lamp current state 1\n",
      "Lamp current state 0\n",
      "Lamp current state 1\n",
      "Lamp current state 0\n",
      "Lamp current state 1\n",
      "Lamp current state 0\n",
      "Lamp current state 1\n",
      "Lamp current state 0\n",
      "Lamp current state 1\n",
      "Lamp current state 0\n",
      "Lamp current state 1\n",
      "Lamp current state 0\n",
      "Lamp current state 1\n",
      "Lamp current state 0\n",
      "Lamp current state 1\n",
      "Lamp current state 0\n",
      "Lamp current state 1\n",
      "Lamp current state 0\n",
      "Lamp current state 1\n",
      "Lamp current state 0\n",
      "Lamp current state 1\n",
      "Lamp current state 0\n",
      "Lamp current state 1\n",
      "Lamp current state 0\n",
      "Lamp current state 1\n",
      "Lamp current state 0\n",
      "Lamp current state 1\n",
      "Lamp current state 0\n",
      "Lamp current state 1\n",
      "Lamp current state 0\n",
      "Lamp current state 1\n",
      "Lamp current state 0\n",
      "Lamp current state 1\n",
      "Lamp current state 0\n",
      "Lamp current state 1\n"
     ]
    }
   ],
   "source": [
    "time_in = time.time()\n",
    "while True:\n",
    "    channel = GPIO.wait_for_edge(LED, GPIO.RISING, timeout=5000)\n",
    "    if channel is None:\n",
    "        pass\n",
    "#         print('Timeout occurred')\n",
    "    else:\n",
    "        time_out = time.time()\n",
    "        if my_callback(time_in, time_out):\n",
    "            time_in = time_out"
   ]
  },
  {
   "cell_type": "code",
   "execution_count": null,
   "metadata": {},
   "outputs": [],
   "source": []
  }
 ],
 "metadata": {
  "kernelspec": {
   "display_name": "Python 3",
   "language": "python",
   "name": "python3"
  },
  "language_info": {
   "codemirror_mode": {
    "name": "ipython",
    "version": 3
   },
   "file_extension": ".py",
   "mimetype": "text/x-python",
   "name": "python",
   "nbconvert_exporter": "python",
   "pygments_lexer": "ipython3",
   "version": "3.6.3"
  }
 },
 "nbformat": 4,
 "nbformat_minor": 2
}
