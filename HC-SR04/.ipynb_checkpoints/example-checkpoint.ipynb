{
 "cells": [
  {
   "cell_type": "code",
   "execution_count": 21,
   "metadata": {},
   "outputs": [],
   "source": [
    "import RPi.GPIO as GPIO\n",
    "import time"
   ]
  },
  {
   "cell_type": "code",
   "execution_count": 22,
   "metadata": {},
   "outputs": [],
   "source": [
    "TRIG = 23\n",
    "ECHO = 24"
   ]
  },
  {
   "cell_type": "code",
   "execution_count": 23,
   "metadata": {},
   "outputs": [],
   "source": [
    "class HCSR04:\n",
    "    def __init__(self, TRIG, ECHO):\n",
    "        self.TRIG = TRIG\n",
    "        self.ECHO = ECHO\n",
    "        \n",
    "    def setup_gpio(self):\n",
    "        GPIO.setmode(GPIO.BCM)\n",
    "        GPIO.setup(self.TRIG, GPIO.OUT)\n",
    "        GPIO.setup(self.ECHO, GPIO.IN)\n",
    "        \n",
    "    def measure_distance(self):\n",
    "        GPIO.output(self.TRIG, True)\n",
    "        time.sleep(0.00001)\n",
    "        GPIO.output(self.TRIG, False)\n",
    "\n",
    "        while GPIO.input(self.ECHO) == 0:\n",
    "            pulse_start = time.time()\n",
    "\n",
    "        while GPIO.input(ECHO) == 1:\n",
    "            pulse_end = time.time()\n",
    "\n",
    "        pulse_duration = pulse_end - pulse_start\n",
    "\n",
    "        distance = pulse_duration * 17150\n",
    "        distance = round(distance,1)\n",
    "\n",
    "        if distance > 2 and distance < 1000:\n",
    "            print(\"Distance: %s cm\" %(distance - 0.5))\n",
    "        else:\n",
    "            print(\"Out of range\")\n",
    "            \n",
    "    def gpio_clean():\n",
    "        GPIO.cleanup()"
   ]
  },
  {
   "cell_type": "code",
   "execution_count": 24,
   "metadata": {},
   "outputs": [],
   "source": [
    "us_module = HCSR04(TRIG, ECHO)"
   ]
  },
  {
   "cell_type": "code",
   "execution_count": 25,
   "metadata": {},
   "outputs": [
    {
     "name": "stdout",
     "output_type": "stream",
     "text": [
      "Distance measurement in progress..\n",
      "Distance: 12.6 cm\n",
      "Distance: 12.5 cm\n"
     ]
    },
    {
     "ename": "KeyboardInterrupt",
     "evalue": "",
     "output_type": "error",
     "traceback": [
      "\u001b[0;31m---------------------------------------------------------------------------\u001b[0m",
      "\u001b[0;31mKeyboardInterrupt\u001b[0m                         Traceback (most recent call last)",
      "\u001b[0;32m<ipython-input-25-376c40f55e90>\u001b[0m in \u001b[0;36m<module>\u001b[0;34m()\u001b[0m\n\u001b[1;32m      2\u001b[0m \u001b[0mprint\u001b[0m\u001b[0;34m(\u001b[0m\u001b[0;34m\"Distance measurement in progress..\"\u001b[0m\u001b[0;34m)\u001b[0m\u001b[0;34m\u001b[0m\u001b[0m\n\u001b[1;32m      3\u001b[0m \u001b[0;32mwhile\u001b[0m \u001b[0;32mTrue\u001b[0m\u001b[0;34m:\u001b[0m\u001b[0;34m\u001b[0m\u001b[0m\n\u001b[0;32m----> 4\u001b[0;31m     \u001b[0mtime\u001b[0m\u001b[0;34m.\u001b[0m\u001b[0msleep\u001b[0m\u001b[0;34m(\u001b[0m\u001b[0;36m2\u001b[0m\u001b[0;34m)\u001b[0m\u001b[0;34m\u001b[0m\u001b[0m\n\u001b[0m\u001b[1;32m      5\u001b[0m     \u001b[0mus_module\u001b[0m\u001b[0;34m.\u001b[0m\u001b[0mmeasure_distance\u001b[0m\u001b[0;34m(\u001b[0m\u001b[0;34m)\u001b[0m\u001b[0;34m\u001b[0m\u001b[0m\n",
      "\u001b[0;31mKeyboardInterrupt\u001b[0m: "
     ]
    }
   ],
   "source": [
    "us_module.setup_gpio()\n",
    "print(\"Distance measurement in progress..\")\n",
    "while True:\n",
    "    time.sleep(2)\n",
    "    us_module.measure_distance()"
   ]
  },
  {
   "cell_type": "code",
   "execution_count": null,
   "metadata": {},
   "outputs": [],
   "source": []
  }
 ],
 "metadata": {
  "kernelspec": {
   "display_name": "Python 3",
   "language": "python",
   "name": "python3"
  },
  "language_info": {
   "codemirror_mode": {
    "name": "ipython",
    "version": 3
   },
   "file_extension": ".py",
   "mimetype": "text/x-python",
   "name": "python",
   "nbconvert_exporter": "python",
   "pygments_lexer": "ipython3",
   "version": "3.6.3"
  }
 },
 "nbformat": 4,
 "nbformat_minor": 2
}
